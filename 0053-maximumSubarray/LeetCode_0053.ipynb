{
 "cells": [
  {
   "cell_type": "markdown",
   "id": "93b95e29-afcc-448d-a0b0-2146323f1ff0",
   "metadata": {},
   "source": [
    "# 53. Maximum Subarray"
   ]
  },
  {
   "cell_type": "markdown",
   "id": "99d74a64-1077-415a-ad45-d188cdb33fac",
   "metadata": {},
   "source": [
    "**Problem Statement**\n",
    "\n",
    "Given an integer array `nums`, find the subarray which has the largest sum and return *its sum*.\n",
    "\n",
    "**Tags**: `Array` `Divide & Conquer`\n",
    "\n",
    "**Time Complexity**: O(n)"
   ]
  },
  {
   "cell_type": "code",
   "execution_count": null,
   "id": "1cb8c82d-2fd1-4327-9836-3875eb842606",
   "metadata": {},
   "outputs": [],
   "source": [
    "class Solution:\n",
    "    def maxSubArray(self, nums: list[num]) -> int:\n",
    "        return"
   ]
  }
 ],
 "metadata": {
  "kernelspec": {
   "display_name": "Python 3 (ipykernel)",
   "language": "python",
   "name": "python3"
  },
  "language_info": {
   "codemirror_mode": {
    "name": "ipython",
    "version": 3
   },
   "file_extension": ".py",
   "mimetype": "text/x-python",
   "name": "python",
   "nbconvert_exporter": "python",
   "pygments_lexer": "ipython3",
   "version": "3.10.6"
  }
 },
 "nbformat": 4,
 "nbformat_minor": 5
}
