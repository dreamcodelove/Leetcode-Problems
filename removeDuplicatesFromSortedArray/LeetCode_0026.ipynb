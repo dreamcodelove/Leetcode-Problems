{
 "cells": [
  {
   "cell_type": "markdown",
   "id": "0f915da3-8b3b-4fec-b686-96c844f5a54b",
   "metadata": {},
   "source": [
    "# 26. Remove Duplicates from Sorted Array"
   ]
  },
  {
   "cell_type": "markdown",
   "id": "604b4dee-e1ba-4667-bb35-1da905148c9a",
   "metadata": {},
   "source": [
    "**Problem Statement**\n",
    "\n",
    "Given an integer array `nums` sorted in **non-decreasing order**, remove the duplicates [in-place](https://en.wikipedia.org/wiki/In-place_algorithm) such that each unique element appears only **once**. The **relative order** of the elements should be kept the same.\n",
    "\n",
    "Since it is impossible to change the length of the array in some languages, you must instead have the result be placed in the first part of the array `nums`. More formally, if there are `k` elements after removing the duplicates, then the first `k` elements of `nums` should hold the final result. It does not matter what you leave beyond the first `k` elements.\n",
    "\n",
    "Return `k` after placing the final result in the first `k` slots of `nums`.\n",
    "\n",
    "Do not allocate extra space for another array. You must do this by modifying the input array in-place with O(1) extra memory."
   ]
  },
  {
   "cell_type": "markdown",
   "id": "91ca44c9-6503-4e00-a69b-07a82fcd63ef",
   "metadata": {},
   "source": [
    "**Solution**"
   ]
  },
  {
   "cell_type": "code",
   "execution_count": null,
   "id": "58bf9769-e2dc-4b5c-af7d-c7b7eb614e72",
   "metadata": {},
   "outputs": [],
   "source": [
    "class Solution:\n",
    "    def removeDuplicates(self, nums: list[int]) -> int:\n",
    "        return k"
   ]
  },
  {
   "cell_type": "markdown",
   "id": "3a747692-d014-4e2d-a34d-89497dbdf704",
   "metadata": {},
   "source": [
    "**Test**"
   ]
  },
  {
   "cell_type": "code",
   "execution_count": null,
   "id": "20a568d5-18ad-433d-ac3a-cec534acc292",
   "metadata": {},
   "outputs": [],
   "source": [
    "# test-1\n",
    "nums = [1,1,2]\n",
    "Solution.removeDuplicates(nums)"
   ]
  },
  {
   "cell_type": "code",
   "execution_count": null,
   "id": "9c79b2c0-b90f-4a76-b4fe-f62bdc21acf8",
   "metadata": {},
   "outputs": [],
   "source": [
    "# test-2\n",
    "nums = [0,0,1,1,1,2,2,3,3,4]\n",
    "Solution.removeDulicates(nums)"
   ]
  }
 ],
 "metadata": {
  "kernelspec": {
   "display_name": "Python 3 (ipykernel)",
   "language": "python",
   "name": "python3"
  },
  "language_info": {
   "codemirror_mode": {
    "name": "ipython",
    "version": 3
   },
   "file_extension": ".py",
   "mimetype": "text/x-python",
   "name": "python",
   "nbconvert_exporter": "python",
   "pygments_lexer": "ipython3",
   "version": "3.10.6"
  }
 },
 "nbformat": 4,
 "nbformat_minor": 5
}
